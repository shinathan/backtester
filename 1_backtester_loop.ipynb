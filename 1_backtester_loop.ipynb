{
 "cells": [
  {
   "cell_type": "markdown",
   "metadata": {},
   "source": [
    "# Loop-based backtesting\n",
    "Advantages:\n",
    "* The trading logic is straightforward to code.\n",
    "* You can do way more custom stuff more easily, such as stoplosses and takeprofits. I would have no idea how to implement these in vectorized backtesting.\n",
    "* It resembles live trading.\n",
    "\n",
    "Disadvantages:\n",
    "* Slow\n",
    "* Possible to introduce look-ahead bias. To avoid this, you should be very careful with which data you access. If a backtest looks very good, cross-check the entry/exits.\n",
    "\n",
    "I want to make this backtester as simple as possible. In my other repo QS_Extended, almost everything was OOP. However I find that this makes things a bit more complicated. So here I will avoid OOP unless it is absolutely necessary. For the Portfolio that is the case. I would have no idea how you would code something that simulates a portfolio with multi-asset, internal logs etc. without encasing it in an object.\n",
    "\n",
    "All objects and helper functions are in the 'backtester' folder."
   ]
  },
  {
   "cell_type": "code",
   "execution_count": 10,
   "metadata": {},
   "outputs": [],
   "source": [
    "from datetime import datetime, date, time\n",
    "from times import get_market_dates, get_market_calendar, last_trading_date_before\n",
    "from data import get_data\n",
    "from tickers import get_tickers\n",
    "from portfolio import Portfolio\n",
    "import json\n",
    "import pandas as pd\n",
    "\n",
    "DATA_PATH = \"../data/polygon/\"\n",
    "START_DATE = date(2019, 6, 1)\n",
    "END_DATE = date(2024, 3, 1)"
   ]
  },
  {
   "cell_type": "markdown",
   "metadata": {},
   "source": [
    "### The Portfolio object\n",
    "\n",
    "This simulates a portfolio. The portfolio has certain attributes such as the amount of cash and holdings. And several functions such as what it should do when an order gets filled. It also keeps an internal log, which we can update as often as we want (we do this every end of the day). The logs are of the portfolio itself and the fills that the portfolio got."
   ]
  },
  {
   "cell_type": "code",
   "execution_count": 17,
   "metadata": {},
   "outputs": [],
   "source": []
  },
  {
   "cell_type": "markdown",
   "metadata": {},
   "source": [
    "### The performance module"
   ]
  },
  {
   "cell_type": "code",
   "execution_count": null,
   "metadata": {},
   "outputs": [],
   "source": []
  },
  {
   "cell_type": "markdown",
   "metadata": {},
   "source": [
    "### Recap of functions"
   ]
  },
  {
   "cell_type": "code",
   "execution_count": null,
   "metadata": {},
   "outputs": [],
   "source": []
  },
  {
   "cell_type": "markdown",
   "metadata": {},
   "source": [
    "### The backtesting loop"
   ]
  },
  {
   "cell_type": "code",
   "execution_count": null,
   "metadata": {},
   "outputs": [],
   "source": []
  }
 ],
 "metadata": {
  "kernelspec": {
   "display_name": "algotrading",
   "language": "python",
   "name": "python3"
  },
  "language_info": {
   "codemirror_mode": {
    "name": "ipython",
    "version": 3
   },
   "file_extension": ".py",
   "mimetype": "text/x-python",
   "name": "python",
   "nbconvert_exporter": "python",
   "pygments_lexer": "ipython3",
   "version": "3.11.4"
  }
 },
 "nbformat": 4,
 "nbformat_minor": 2
}
